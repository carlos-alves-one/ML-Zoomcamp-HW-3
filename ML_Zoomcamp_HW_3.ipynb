{
  "nbformat": 4,
  "nbformat_minor": 0,
  "metadata": {
    "colab": {
      "provenance": [],
      "authorship_tag": "ABX9TyMV42lmPQ7wnq+QcoDbVtdp",
      "include_colab_link": true
    },
    "kernelspec": {
      "name": "python3",
      "display_name": "Python 3"
    },
    "language_info": {
      "name": "python"
    }
  },
  "cells": [
    {
      "cell_type": "markdown",
      "metadata": {
        "id": "view-in-github",
        "colab_type": "text"
      },
      "source": [
        "<a href=\"https://colab.research.google.com/github/carlos-alves-one/-ML-Zoomcamp-HW-3/blob/main/ML_Zoomcamp_HW_3.ipynb\" target=\"_parent\"><img src=\"https://colab.research.google.com/assets/colab-badge.svg\" alt=\"Open In Colab\"/></a>"
      ]
    },
    {
      "cell_type": "markdown",
      "source": [
        "## Machine Learning ZoomCamp - Homework 3 \n",
        "**Author.....: Carlos Manuel de Oliveira Alves**<br>\n",
        "**Created...: 26/09/2022**"
      ],
      "metadata": {
        "id": "Mj9R8ZH7aWjJ"
      }
    },
    {
      "cell_type": "code",
      "execution_count": 12,
      "metadata": {
        "id": "lvq19pOnaRrv"
      },
      "outputs": [],
      "source": [
        "# Import all necessay libraries that we will use in this homework\n",
        "%matplotlib inline\n",
        "\n",
        "import pandas as pd\n",
        "import numpy as np\n",
        "\n",
        "import matplotlib.pyplot as plt\n",
        "import seaborn as sns\n",
        "\n",
        "# Import the library warnings to ignore the warnings from the system\n",
        "import warnings\n",
        "warnings.filterwarnings(\"ignore\")"
      ]
    },
    {
      "cell_type": "markdown",
      "source": [
        "##Data Import"
      ],
      "metadata": {
        "id": "IAuwJYtR4b7c"
      }
    },
    {
      "cell_type": "code",
      "source": [
        "# Create list with the columns to be used with the dataset\n",
        "usecols = [\n",
        "    'latitude',\n",
        "    'longitude',\n",
        "    'housing_median_age',\n",
        "    'total_rooms',\n",
        "    'total_bedrooms',\n",
        "    'population',\n",
        "    'households',\n",
        "    'median_income',\n",
        "    'median_house_value',\n",
        "    'ocean_proximity']"
      ],
      "metadata": {
        "id": "9Vaze6Va4Mls"
      },
      "execution_count": 13,
      "outputs": []
    },
    {
      "cell_type": "code",
      "source": [
        "# Locate dataset for the homework\n",
        "data = 'https://raw.githubusercontent.com/alexeygrigorev/datasets/master/housing.csv'"
      ],
      "metadata": {
        "id": "j88tfc0X6HWw"
      },
      "execution_count": 14,
      "outputs": []
    },
    {
      "cell_type": "code",
      "source": [
        "# Download dataset and store it locally with different file name\n",
        "!wget $data -O data.csv"
      ],
      "metadata": {
        "colab": {
          "base_uri": "https://localhost:8080/"
        },
        "id": "fr6E6N8f6WIe",
        "outputId": "abcfc510-1b8b-4b56-84f7-4dfb42ee3ef9"
      },
      "execution_count": 15,
      "outputs": [
        {
          "output_type": "stream",
          "name": "stdout",
          "text": [
            "--2022-09-26 13:15:32--  https://raw.githubusercontent.com/alexeygrigorev/datasets/master/housing.csv\n",
            "Resolving raw.githubusercontent.com (raw.githubusercontent.com)... 185.199.108.133, 185.199.109.133, 185.199.110.133, ...\n",
            "Connecting to raw.githubusercontent.com (raw.githubusercontent.com)|185.199.108.133|:443... connected.\n",
            "HTTP request sent, awaiting response... 200 OK\n",
            "Length: 1423529 (1.4M) [text/plain]\n",
            "Saving to: ‘data.csv’\n",
            "\n",
            "\rdata.csv              0%[                    ]       0  --.-KB/s               \rdata.csv            100%[===================>]   1.36M  --.-KB/s    in 0.007s  \n",
            "\n",
            "2022-09-26 13:15:32 (204 MB/s) - ‘data.csv’ saved [1423529/1423529]\n",
            "\n"
          ]
        }
      ]
    },
    {
      "cell_type": "code",
      "source": [
        "# Store only the features we need for this homework\n",
        "data = pd.read_csv('data.csv', usecols=usecols)"
      ],
      "metadata": {
        "id": "Fx7nravW6nN3"
      },
      "execution_count": 16,
      "outputs": []
    }
  ]
}