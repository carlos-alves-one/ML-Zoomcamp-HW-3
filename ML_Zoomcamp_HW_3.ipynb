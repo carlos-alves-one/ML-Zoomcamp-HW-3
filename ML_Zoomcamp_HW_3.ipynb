{
  "nbformat": 4,
  "nbformat_minor": 0,
  "metadata": {
    "colab": {
      "provenance": [],
      "authorship_tag": "ABX9TyOA6HnHadPfoVqHTmzMdNoq"
    },
    "kernelspec": {
      "name": "python3",
      "display_name": "Python 3"
    },
    "language_info": {
      "name": "python"
    }
  },
  "cells": [
    {
      "cell_type": "markdown",
      "source": [
        "## Machine Learning ZoomCamp - Homework 3 \n",
        "**Author.....: Carlos Manuel de Oliveira Alves**<br>\n",
        "**Created...: 26/09/2022**"
      ],
      "metadata": {
        "id": "Mj9R8ZH7aWjJ"
      }
    },
    {
      "cell_type": "code",
      "execution_count": null,
      "metadata": {
        "id": "lvq19pOnaRrv"
      },
      "outputs": [],
      "source": [
        "# Import all necessay libraries that we will use in this homework\n",
        "%matplotlib inline\n",
        "\n",
        "import pandas as pd\n",
        "import numpy as np\n",
        "\n",
        "import matplotlib.pyplot as plt\n",
        "import seaborn as sns\n",
        "\n"
      ]
    }
  ]
}