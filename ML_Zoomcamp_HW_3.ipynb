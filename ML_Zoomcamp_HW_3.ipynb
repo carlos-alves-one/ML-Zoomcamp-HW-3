{
  "nbformat": 4,
  "nbformat_minor": 0,
  "metadata": {
    "colab": {
      "provenance": [],
      "collapsed_sections": [],
      "authorship_tag": "ABX9TyPngZITE5wV36K9KWAsjor6",
      "include_colab_link": true
    },
    "kernelspec": {
      "name": "python3",
      "display_name": "Python 3"
    },
    "language_info": {
      "name": "python"
    }
  },
  "cells": [
    {
      "cell_type": "markdown",
      "metadata": {
        "id": "view-in-github",
        "colab_type": "text"
      },
      "source": [
        "<a href=\"https://colab.research.google.com/github/carlos-alves-one/-ML-Zoomcamp-HW-3/blob/main/ML_Zoomcamp_HW_3.ipynb\" target=\"_parent\"><img src=\"https://colab.research.google.com/assets/colab-badge.svg\" alt=\"Open In Colab\"/></a>"
      ]
    },
    {
      "cell_type": "markdown",
      "source": [
        "## Machine Learning ZoomCamp - Homework 3 \n",
        "**Author.....: Carlos Manuel de Oliveira Alves**<br>\n",
        "**Created...: 26/09/2022**"
      ],
      "metadata": {
        "id": "Mj9R8ZH7aWjJ"
      }
    },
    {
      "cell_type": "code",
      "execution_count": 64,
      "metadata": {
        "id": "lvq19pOnaRrv"
      },
      "outputs": [],
      "source": [
        "# Import all necessay libraries that we will use in this homework\n",
        "%matplotlib inline\n",
        "\n",
        "import pandas as pd\n",
        "import numpy as np\n",
        "\n",
        "import matplotlib.pyplot as plt\n",
        "import seaborn as sns\n",
        "\n",
        "# Import the library warnings to ignore the warnings from the system\n",
        "import warnings\n",
        "warnings.filterwarnings(\"ignore\")"
      ]
    },
    {
      "cell_type": "markdown",
      "source": [
        "##Data Import"
      ],
      "metadata": {
        "id": "IAuwJYtR4b7c"
      }
    },
    {
      "cell_type": "code",
      "source": [
        "# Create list with the columns to be used with the dataset\n",
        "usecols = [\n",
        "    'latitude',\n",
        "    'longitude',\n",
        "    'housing_median_age',\n",
        "    'total_rooms',\n",
        "    'total_bedrooms',\n",
        "    'population',\n",
        "    'households',\n",
        "    'median_income',\n",
        "    'median_house_value',\n",
        "    'ocean_proximity']"
      ],
      "metadata": {
        "id": "9Vaze6Va4Mls"
      },
      "execution_count": 65,
      "outputs": []
    },
    {
      "cell_type": "code",
      "source": [
        "# Locate dataset for the homework\n",
        "data = 'https://raw.githubusercontent.com/alexeygrigorev/datasets/master/housing.csv'"
      ],
      "metadata": {
        "id": "j88tfc0X6HWw"
      },
      "execution_count": 66,
      "outputs": []
    },
    {
      "cell_type": "code",
      "source": [
        "# Download dataset and store it locally with different file name\n",
        "!wget $data -O data.csv"
      ],
      "metadata": {
        "colab": {
          "base_uri": "https://localhost:8080/"
        },
        "id": "fr6E6N8f6WIe",
        "outputId": "d346c29b-8d4d-43ac-e2e4-ca85b4ae81ab"
      },
      "execution_count": 67,
      "outputs": [
        {
          "output_type": "stream",
          "name": "stdout",
          "text": [
            "--2022-09-26 16:57:12--  https://raw.githubusercontent.com/alexeygrigorev/datasets/master/housing.csv\n",
            "Resolving raw.githubusercontent.com (raw.githubusercontent.com)... 185.199.111.133, 185.199.110.133, 185.199.109.133, ...\n",
            "Connecting to raw.githubusercontent.com (raw.githubusercontent.com)|185.199.111.133|:443... connected.\n",
            "HTTP request sent, awaiting response... 200 OK\n",
            "Length: 1423529 (1.4M) [text/plain]\n",
            "Saving to: ‘data.csv’\n",
            "\n",
            "\rdata.csv              0%[                    ]       0  --.-KB/s               \rdata.csv            100%[===================>]   1.36M  --.-KB/s    in 0.009s  \n",
            "\n",
            "2022-09-26 16:57:12 (158 MB/s) - ‘data.csv’ saved [1423529/1423529]\n",
            "\n"
          ]
        }
      ]
    },
    {
      "cell_type": "code",
      "source": [
        "# Store only the features we need for this homework\n",
        "data = pd.read_csv('data.csv', usecols=usecols)"
      ],
      "metadata": {
        "id": "Fx7nravW6nN3"
      },
      "execution_count": 68,
      "outputs": []
    },
    {
      "cell_type": "code",
      "source": [
        "# Check total of rows and columns of the dataset\n",
        "print(data.shape)"
      ],
      "metadata": {
        "colab": {
          "base_uri": "https://localhost:8080/"
        },
        "id": "BS3EkAe-8ROW",
        "outputId": "c4bcf0e4-4f5c-448d-e57a-f0f83f90f209"
      },
      "execution_count": 69,
      "outputs": [
        {
          "output_type": "stream",
          "name": "stdout",
          "text": [
            "(20640, 10)\n"
          ]
        }
      ]
    },
    {
      "cell_type": "code",
      "source": [
        "# Check the first 10 rows of the dataset\n",
        "data.head(10)"
      ],
      "metadata": {
        "colab": {
          "base_uri": "https://localhost:8080/",
          "height": 427
        },
        "id": "vQIaWNRH8kN8",
        "outputId": "35f45262-7930-413d-f09f-2b96cb02d596"
      },
      "execution_count": 70,
      "outputs": [
        {
          "output_type": "execute_result",
          "data": {
            "text/plain": [
              "   longitude  latitude  housing_median_age  total_rooms  total_bedrooms  \\\n",
              "0    -122.23     37.88                41.0        880.0           129.0   \n",
              "1    -122.22     37.86                21.0       7099.0          1106.0   \n",
              "2    -122.24     37.85                52.0       1467.0           190.0   \n",
              "3    -122.25     37.85                52.0       1274.0           235.0   \n",
              "4    -122.25     37.85                52.0       1627.0           280.0   \n",
              "5    -122.25     37.85                52.0        919.0           213.0   \n",
              "6    -122.25     37.84                52.0       2535.0           489.0   \n",
              "7    -122.25     37.84                52.0       3104.0           687.0   \n",
              "8    -122.26     37.84                42.0       2555.0           665.0   \n",
              "9    -122.25     37.84                52.0       3549.0           707.0   \n",
              "\n",
              "   population  households  median_income  median_house_value ocean_proximity  \n",
              "0       322.0       126.0         8.3252            452600.0        NEAR BAY  \n",
              "1      2401.0      1138.0         8.3014            358500.0        NEAR BAY  \n",
              "2       496.0       177.0         7.2574            352100.0        NEAR BAY  \n",
              "3       558.0       219.0         5.6431            341300.0        NEAR BAY  \n",
              "4       565.0       259.0         3.8462            342200.0        NEAR BAY  \n",
              "5       413.0       193.0         4.0368            269700.0        NEAR BAY  \n",
              "6      1094.0       514.0         3.6591            299200.0        NEAR BAY  \n",
              "7      1157.0       647.0         3.1200            241400.0        NEAR BAY  \n",
              "8      1206.0       595.0         2.0804            226700.0        NEAR BAY  \n",
              "9      1551.0       714.0         3.6912            261100.0        NEAR BAY  "
            ],
            "text/html": [
              "\n",
              "  <div id=\"df-eebf96dd-b095-4206-95cd-f42892a3b8e6\">\n",
              "    <div class=\"colab-df-container\">\n",
              "      <div>\n",
              "<style scoped>\n",
              "    .dataframe tbody tr th:only-of-type {\n",
              "        vertical-align: middle;\n",
              "    }\n",
              "\n",
              "    .dataframe tbody tr th {\n",
              "        vertical-align: top;\n",
              "    }\n",
              "\n",
              "    .dataframe thead th {\n",
              "        text-align: right;\n",
              "    }\n",
              "</style>\n",
              "<table border=\"1\" class=\"dataframe\">\n",
              "  <thead>\n",
              "    <tr style=\"text-align: right;\">\n",
              "      <th></th>\n",
              "      <th>longitude</th>\n",
              "      <th>latitude</th>\n",
              "      <th>housing_median_age</th>\n",
              "      <th>total_rooms</th>\n",
              "      <th>total_bedrooms</th>\n",
              "      <th>population</th>\n",
              "      <th>households</th>\n",
              "      <th>median_income</th>\n",
              "      <th>median_house_value</th>\n",
              "      <th>ocean_proximity</th>\n",
              "    </tr>\n",
              "  </thead>\n",
              "  <tbody>\n",
              "    <tr>\n",
              "      <th>0</th>\n",
              "      <td>-122.23</td>\n",
              "      <td>37.88</td>\n",
              "      <td>41.0</td>\n",
              "      <td>880.0</td>\n",
              "      <td>129.0</td>\n",
              "      <td>322.0</td>\n",
              "      <td>126.0</td>\n",
              "      <td>8.3252</td>\n",
              "      <td>452600.0</td>\n",
              "      <td>NEAR BAY</td>\n",
              "    </tr>\n",
              "    <tr>\n",
              "      <th>1</th>\n",
              "      <td>-122.22</td>\n",
              "      <td>37.86</td>\n",
              "      <td>21.0</td>\n",
              "      <td>7099.0</td>\n",
              "      <td>1106.0</td>\n",
              "      <td>2401.0</td>\n",
              "      <td>1138.0</td>\n",
              "      <td>8.3014</td>\n",
              "      <td>358500.0</td>\n",
              "      <td>NEAR BAY</td>\n",
              "    </tr>\n",
              "    <tr>\n",
              "      <th>2</th>\n",
              "      <td>-122.24</td>\n",
              "      <td>37.85</td>\n",
              "      <td>52.0</td>\n",
              "      <td>1467.0</td>\n",
              "      <td>190.0</td>\n",
              "      <td>496.0</td>\n",
              "      <td>177.0</td>\n",
              "      <td>7.2574</td>\n",
              "      <td>352100.0</td>\n",
              "      <td>NEAR BAY</td>\n",
              "    </tr>\n",
              "    <tr>\n",
              "      <th>3</th>\n",
              "      <td>-122.25</td>\n",
              "      <td>37.85</td>\n",
              "      <td>52.0</td>\n",
              "      <td>1274.0</td>\n",
              "      <td>235.0</td>\n",
              "      <td>558.0</td>\n",
              "      <td>219.0</td>\n",
              "      <td>5.6431</td>\n",
              "      <td>341300.0</td>\n",
              "      <td>NEAR BAY</td>\n",
              "    </tr>\n",
              "    <tr>\n",
              "      <th>4</th>\n",
              "      <td>-122.25</td>\n",
              "      <td>37.85</td>\n",
              "      <td>52.0</td>\n",
              "      <td>1627.0</td>\n",
              "      <td>280.0</td>\n",
              "      <td>565.0</td>\n",
              "      <td>259.0</td>\n",
              "      <td>3.8462</td>\n",
              "      <td>342200.0</td>\n",
              "      <td>NEAR BAY</td>\n",
              "    </tr>\n",
              "    <tr>\n",
              "      <th>5</th>\n",
              "      <td>-122.25</td>\n",
              "      <td>37.85</td>\n",
              "      <td>52.0</td>\n",
              "      <td>919.0</td>\n",
              "      <td>213.0</td>\n",
              "      <td>413.0</td>\n",
              "      <td>193.0</td>\n",
              "      <td>4.0368</td>\n",
              "      <td>269700.0</td>\n",
              "      <td>NEAR BAY</td>\n",
              "    </tr>\n",
              "    <tr>\n",
              "      <th>6</th>\n",
              "      <td>-122.25</td>\n",
              "      <td>37.84</td>\n",
              "      <td>52.0</td>\n",
              "      <td>2535.0</td>\n",
              "      <td>489.0</td>\n",
              "      <td>1094.0</td>\n",
              "      <td>514.0</td>\n",
              "      <td>3.6591</td>\n",
              "      <td>299200.0</td>\n",
              "      <td>NEAR BAY</td>\n",
              "    </tr>\n",
              "    <tr>\n",
              "      <th>7</th>\n",
              "      <td>-122.25</td>\n",
              "      <td>37.84</td>\n",
              "      <td>52.0</td>\n",
              "      <td>3104.0</td>\n",
              "      <td>687.0</td>\n",
              "      <td>1157.0</td>\n",
              "      <td>647.0</td>\n",
              "      <td>3.1200</td>\n",
              "      <td>241400.0</td>\n",
              "      <td>NEAR BAY</td>\n",
              "    </tr>\n",
              "    <tr>\n",
              "      <th>8</th>\n",
              "      <td>-122.26</td>\n",
              "      <td>37.84</td>\n",
              "      <td>42.0</td>\n",
              "      <td>2555.0</td>\n",
              "      <td>665.0</td>\n",
              "      <td>1206.0</td>\n",
              "      <td>595.0</td>\n",
              "      <td>2.0804</td>\n",
              "      <td>226700.0</td>\n",
              "      <td>NEAR BAY</td>\n",
              "    </tr>\n",
              "    <tr>\n",
              "      <th>9</th>\n",
              "      <td>-122.25</td>\n",
              "      <td>37.84</td>\n",
              "      <td>52.0</td>\n",
              "      <td>3549.0</td>\n",
              "      <td>707.0</td>\n",
              "      <td>1551.0</td>\n",
              "      <td>714.0</td>\n",
              "      <td>3.6912</td>\n",
              "      <td>261100.0</td>\n",
              "      <td>NEAR BAY</td>\n",
              "    </tr>\n",
              "  </tbody>\n",
              "</table>\n",
              "</div>\n",
              "      <button class=\"colab-df-convert\" onclick=\"convertToInteractive('df-eebf96dd-b095-4206-95cd-f42892a3b8e6')\"\n",
              "              title=\"Convert this dataframe to an interactive table.\"\n",
              "              style=\"display:none;\">\n",
              "        \n",
              "  <svg xmlns=\"http://www.w3.org/2000/svg\" height=\"24px\"viewBox=\"0 0 24 24\"\n",
              "       width=\"24px\">\n",
              "    <path d=\"M0 0h24v24H0V0z\" fill=\"none\"/>\n",
              "    <path d=\"M18.56 5.44l.94 2.06.94-2.06 2.06-.94-2.06-.94-.94-2.06-.94 2.06-2.06.94zm-11 1L8.5 8.5l.94-2.06 2.06-.94-2.06-.94L8.5 2.5l-.94 2.06-2.06.94zm10 10l.94 2.06.94-2.06 2.06-.94-2.06-.94-.94-2.06-.94 2.06-2.06.94z\"/><path d=\"M17.41 7.96l-1.37-1.37c-.4-.4-.92-.59-1.43-.59-.52 0-1.04.2-1.43.59L10.3 9.45l-7.72 7.72c-.78.78-.78 2.05 0 2.83L4 21.41c.39.39.9.59 1.41.59.51 0 1.02-.2 1.41-.59l7.78-7.78 2.81-2.81c.8-.78.8-2.07 0-2.86zM5.41 20L4 18.59l7.72-7.72 1.47 1.35L5.41 20z\"/>\n",
              "  </svg>\n",
              "      </button>\n",
              "      \n",
              "  <style>\n",
              "    .colab-df-container {\n",
              "      display:flex;\n",
              "      flex-wrap:wrap;\n",
              "      gap: 12px;\n",
              "    }\n",
              "\n",
              "    .colab-df-convert {\n",
              "      background-color: #E8F0FE;\n",
              "      border: none;\n",
              "      border-radius: 50%;\n",
              "      cursor: pointer;\n",
              "      display: none;\n",
              "      fill: #1967D2;\n",
              "      height: 32px;\n",
              "      padding: 0 0 0 0;\n",
              "      width: 32px;\n",
              "    }\n",
              "\n",
              "    .colab-df-convert:hover {\n",
              "      background-color: #E2EBFA;\n",
              "      box-shadow: 0px 1px 2px rgba(60, 64, 67, 0.3), 0px 1px 3px 1px rgba(60, 64, 67, 0.15);\n",
              "      fill: #174EA6;\n",
              "    }\n",
              "\n",
              "    [theme=dark] .colab-df-convert {\n",
              "      background-color: #3B4455;\n",
              "      fill: #D2E3FC;\n",
              "    }\n",
              "\n",
              "    [theme=dark] .colab-df-convert:hover {\n",
              "      background-color: #434B5C;\n",
              "      box-shadow: 0px 1px 3px 1px rgba(0, 0, 0, 0.15);\n",
              "      filter: drop-shadow(0px 1px 2px rgba(0, 0, 0, 0.3));\n",
              "      fill: #FFFFFF;\n",
              "    }\n",
              "  </style>\n",
              "\n",
              "      <script>\n",
              "        const buttonEl =\n",
              "          document.querySelector('#df-eebf96dd-b095-4206-95cd-f42892a3b8e6 button.colab-df-convert');\n",
              "        buttonEl.style.display =\n",
              "          google.colab.kernel.accessAllowed ? 'block' : 'none';\n",
              "\n",
              "        async function convertToInteractive(key) {\n",
              "          const element = document.querySelector('#df-eebf96dd-b095-4206-95cd-f42892a3b8e6');\n",
              "          const dataTable =\n",
              "            await google.colab.kernel.invokeFunction('convertToInteractive',\n",
              "                                                     [key], {});\n",
              "          if (!dataTable) return;\n",
              "\n",
              "          const docLinkHtml = 'Like what you see? Visit the ' +\n",
              "            '<a target=\"_blank\" href=https://colab.research.google.com/notebooks/data_table.ipynb>data table notebook</a>'\n",
              "            + ' to learn more about interactive tables.';\n",
              "          element.innerHTML = '';\n",
              "          dataTable['output_type'] = 'display_data';\n",
              "          await google.colab.output.renderOutput(dataTable, element);\n",
              "          const docLink = document.createElement('div');\n",
              "          docLink.innerHTML = docLinkHtml;\n",
              "          element.appendChild(docLink);\n",
              "        }\n",
              "      </script>\n",
              "    </div>\n",
              "  </div>\n",
              "  "
            ]
          },
          "metadata": {},
          "execution_count": 70
        }
      ]
    },
    {
      "cell_type": "code",
      "source": [
        "# Check how many missing values we have with dataset\n",
        "missingValues = data.isnull().sum()\n",
        "missingValues"
      ],
      "metadata": {
        "colab": {
          "base_uri": "https://localhost:8080/"
        },
        "id": "0CsaoVAi-ibx",
        "outputId": "74c6b5e0-6e6d-46fe-d265-357ae013e781"
      },
      "execution_count": 71,
      "outputs": [
        {
          "output_type": "execute_result",
          "data": {
            "text/plain": [
              "longitude               0\n",
              "latitude                0\n",
              "housing_median_age      0\n",
              "total_rooms             0\n",
              "total_bedrooms        207\n",
              "population              0\n",
              "households              0\n",
              "median_income           0\n",
              "median_house_value      0\n",
              "ocean_proximity         0\n",
              "dtype: int64"
            ]
          },
          "metadata": {},
          "execution_count": 71
        }
      ]
    },
    {
      "cell_type": "code",
      "source": [
        "# Select only the features from above and fill in the missing values with 0\n",
        "data = data.fillna(0)"
      ],
      "metadata": {
        "id": "jBbfVR0K8tVt"
      },
      "execution_count": 72,
      "outputs": []
    },
    {
      "cell_type": "code",
      "source": [
        "# Check how many missing values we have with dataset after filled the missing values\n",
        "missingValues = data.isnull().sum()\n",
        "missingValues"
      ],
      "metadata": {
        "colab": {
          "base_uri": "https://localhost:8080/"
        },
        "id": "iYACKGDw_Kgo",
        "outputId": "b5f0c80b-b20f-4665-bdaa-8131472d499a"
      },
      "execution_count": 73,
      "outputs": [
        {
          "output_type": "execute_result",
          "data": {
            "text/plain": [
              "longitude             0\n",
              "latitude              0\n",
              "housing_median_age    0\n",
              "total_rooms           0\n",
              "total_bedrooms        0\n",
              "population            0\n",
              "households            0\n",
              "median_income         0\n",
              "median_house_value    0\n",
              "ocean_proximity       0\n",
              "dtype: int64"
            ]
          },
          "metadata": {},
          "execution_count": 73
        }
      ]
    },
    {
      "cell_type": "code",
      "source": [
        "# Create a new column rooms_per_household by dividing the column total_rooms by the column households from dataframe\n",
        "data['rooms_per_household'] = data['total_rooms'].values / data['households'].values\n",
        "\n",
        "# Create a new column bedrooms_per_room by dividing the column total_bedrooms by the column total_rooms from dataframe\n",
        "data['bedrooms_per_room'] = data['total_bedrooms'].values / data['total_rooms'].values\n",
        "\n",
        "# Create a new column population_per_household by dividing the column population by the column households from dataframe\n",
        "data['population_per_household'] = data['population'].values / data['households'].values"
      ],
      "metadata": {
        "id": "k2RVC3nw_za1"
      },
      "execution_count": 74,
      "outputs": []
    },
    {
      "cell_type": "code",
      "source": [
        "# Check the first 5 rows of the dataset\n",
        "data.head()"
      ],
      "metadata": {
        "colab": {
          "base_uri": "https://localhost:8080/",
          "height": 270
        },
        "id": "R6vbAZw7E8lM",
        "outputId": "c6c46ae4-874e-46a4-ba0d-705794422cbc"
      },
      "execution_count": 75,
      "outputs": [
        {
          "output_type": "execute_result",
          "data": {
            "text/plain": [
              "   longitude  latitude  housing_median_age  total_rooms  total_bedrooms  \\\n",
              "0    -122.23     37.88                41.0        880.0           129.0   \n",
              "1    -122.22     37.86                21.0       7099.0          1106.0   \n",
              "2    -122.24     37.85                52.0       1467.0           190.0   \n",
              "3    -122.25     37.85                52.0       1274.0           235.0   \n",
              "4    -122.25     37.85                52.0       1627.0           280.0   \n",
              "\n",
              "   population  households  median_income  median_house_value ocean_proximity  \\\n",
              "0       322.0       126.0         8.3252            452600.0        NEAR BAY   \n",
              "1      2401.0      1138.0         8.3014            358500.0        NEAR BAY   \n",
              "2       496.0       177.0         7.2574            352100.0        NEAR BAY   \n",
              "3       558.0       219.0         5.6431            341300.0        NEAR BAY   \n",
              "4       565.0       259.0         3.8462            342200.0        NEAR BAY   \n",
              "\n",
              "   rooms_per_household  bedrooms_per_room  population_per_household  \n",
              "0             6.984127           0.146591                  2.555556  \n",
              "1             6.238137           0.155797                  2.109842  \n",
              "2             8.288136           0.129516                  2.802260  \n",
              "3             5.817352           0.184458                  2.547945  \n",
              "4             6.281853           0.172096                  2.181467  "
            ],
            "text/html": [
              "\n",
              "  <div id=\"df-3996fc07-99e7-4e82-9c6b-a337cb00ac9c\">\n",
              "    <div class=\"colab-df-container\">\n",
              "      <div>\n",
              "<style scoped>\n",
              "    .dataframe tbody tr th:only-of-type {\n",
              "        vertical-align: middle;\n",
              "    }\n",
              "\n",
              "    .dataframe tbody tr th {\n",
              "        vertical-align: top;\n",
              "    }\n",
              "\n",
              "    .dataframe thead th {\n",
              "        text-align: right;\n",
              "    }\n",
              "</style>\n",
              "<table border=\"1\" class=\"dataframe\">\n",
              "  <thead>\n",
              "    <tr style=\"text-align: right;\">\n",
              "      <th></th>\n",
              "      <th>longitude</th>\n",
              "      <th>latitude</th>\n",
              "      <th>housing_median_age</th>\n",
              "      <th>total_rooms</th>\n",
              "      <th>total_bedrooms</th>\n",
              "      <th>population</th>\n",
              "      <th>households</th>\n",
              "      <th>median_income</th>\n",
              "      <th>median_house_value</th>\n",
              "      <th>ocean_proximity</th>\n",
              "      <th>rooms_per_household</th>\n",
              "      <th>bedrooms_per_room</th>\n",
              "      <th>population_per_household</th>\n",
              "    </tr>\n",
              "  </thead>\n",
              "  <tbody>\n",
              "    <tr>\n",
              "      <th>0</th>\n",
              "      <td>-122.23</td>\n",
              "      <td>37.88</td>\n",
              "      <td>41.0</td>\n",
              "      <td>880.0</td>\n",
              "      <td>129.0</td>\n",
              "      <td>322.0</td>\n",
              "      <td>126.0</td>\n",
              "      <td>8.3252</td>\n",
              "      <td>452600.0</td>\n",
              "      <td>NEAR BAY</td>\n",
              "      <td>6.984127</td>\n",
              "      <td>0.146591</td>\n",
              "      <td>2.555556</td>\n",
              "    </tr>\n",
              "    <tr>\n",
              "      <th>1</th>\n",
              "      <td>-122.22</td>\n",
              "      <td>37.86</td>\n",
              "      <td>21.0</td>\n",
              "      <td>7099.0</td>\n",
              "      <td>1106.0</td>\n",
              "      <td>2401.0</td>\n",
              "      <td>1138.0</td>\n",
              "      <td>8.3014</td>\n",
              "      <td>358500.0</td>\n",
              "      <td>NEAR BAY</td>\n",
              "      <td>6.238137</td>\n",
              "      <td>0.155797</td>\n",
              "      <td>2.109842</td>\n",
              "    </tr>\n",
              "    <tr>\n",
              "      <th>2</th>\n",
              "      <td>-122.24</td>\n",
              "      <td>37.85</td>\n",
              "      <td>52.0</td>\n",
              "      <td>1467.0</td>\n",
              "      <td>190.0</td>\n",
              "      <td>496.0</td>\n",
              "      <td>177.0</td>\n",
              "      <td>7.2574</td>\n",
              "      <td>352100.0</td>\n",
              "      <td>NEAR BAY</td>\n",
              "      <td>8.288136</td>\n",
              "      <td>0.129516</td>\n",
              "      <td>2.802260</td>\n",
              "    </tr>\n",
              "    <tr>\n",
              "      <th>3</th>\n",
              "      <td>-122.25</td>\n",
              "      <td>37.85</td>\n",
              "      <td>52.0</td>\n",
              "      <td>1274.0</td>\n",
              "      <td>235.0</td>\n",
              "      <td>558.0</td>\n",
              "      <td>219.0</td>\n",
              "      <td>5.6431</td>\n",
              "      <td>341300.0</td>\n",
              "      <td>NEAR BAY</td>\n",
              "      <td>5.817352</td>\n",
              "      <td>0.184458</td>\n",
              "      <td>2.547945</td>\n",
              "    </tr>\n",
              "    <tr>\n",
              "      <th>4</th>\n",
              "      <td>-122.25</td>\n",
              "      <td>37.85</td>\n",
              "      <td>52.0</td>\n",
              "      <td>1627.0</td>\n",
              "      <td>280.0</td>\n",
              "      <td>565.0</td>\n",
              "      <td>259.0</td>\n",
              "      <td>3.8462</td>\n",
              "      <td>342200.0</td>\n",
              "      <td>NEAR BAY</td>\n",
              "      <td>6.281853</td>\n",
              "      <td>0.172096</td>\n",
              "      <td>2.181467</td>\n",
              "    </tr>\n",
              "  </tbody>\n",
              "</table>\n",
              "</div>\n",
              "      <button class=\"colab-df-convert\" onclick=\"convertToInteractive('df-3996fc07-99e7-4e82-9c6b-a337cb00ac9c')\"\n",
              "              title=\"Convert this dataframe to an interactive table.\"\n",
              "              style=\"display:none;\">\n",
              "        \n",
              "  <svg xmlns=\"http://www.w3.org/2000/svg\" height=\"24px\"viewBox=\"0 0 24 24\"\n",
              "       width=\"24px\">\n",
              "    <path d=\"M0 0h24v24H0V0z\" fill=\"none\"/>\n",
              "    <path d=\"M18.56 5.44l.94 2.06.94-2.06 2.06-.94-2.06-.94-.94-2.06-.94 2.06-2.06.94zm-11 1L8.5 8.5l.94-2.06 2.06-.94-2.06-.94L8.5 2.5l-.94 2.06-2.06.94zm10 10l.94 2.06.94-2.06 2.06-.94-2.06-.94-.94-2.06-.94 2.06-2.06.94z\"/><path d=\"M17.41 7.96l-1.37-1.37c-.4-.4-.92-.59-1.43-.59-.52 0-1.04.2-1.43.59L10.3 9.45l-7.72 7.72c-.78.78-.78 2.05 0 2.83L4 21.41c.39.39.9.59 1.41.59.51 0 1.02-.2 1.41-.59l7.78-7.78 2.81-2.81c.8-.78.8-2.07 0-2.86zM5.41 20L4 18.59l7.72-7.72 1.47 1.35L5.41 20z\"/>\n",
              "  </svg>\n",
              "      </button>\n",
              "      \n",
              "  <style>\n",
              "    .colab-df-container {\n",
              "      display:flex;\n",
              "      flex-wrap:wrap;\n",
              "      gap: 12px;\n",
              "    }\n",
              "\n",
              "    .colab-df-convert {\n",
              "      background-color: #E8F0FE;\n",
              "      border: none;\n",
              "      border-radius: 50%;\n",
              "      cursor: pointer;\n",
              "      display: none;\n",
              "      fill: #1967D2;\n",
              "      height: 32px;\n",
              "      padding: 0 0 0 0;\n",
              "      width: 32px;\n",
              "    }\n",
              "\n",
              "    .colab-df-convert:hover {\n",
              "      background-color: #E2EBFA;\n",
              "      box-shadow: 0px 1px 2px rgba(60, 64, 67, 0.3), 0px 1px 3px 1px rgba(60, 64, 67, 0.15);\n",
              "      fill: #174EA6;\n",
              "    }\n",
              "\n",
              "    [theme=dark] .colab-df-convert {\n",
              "      background-color: #3B4455;\n",
              "      fill: #D2E3FC;\n",
              "    }\n",
              "\n",
              "    [theme=dark] .colab-df-convert:hover {\n",
              "      background-color: #434B5C;\n",
              "      box-shadow: 0px 1px 3px 1px rgba(0, 0, 0, 0.15);\n",
              "      filter: drop-shadow(0px 1px 2px rgba(0, 0, 0, 0.3));\n",
              "      fill: #FFFFFF;\n",
              "    }\n",
              "  </style>\n",
              "\n",
              "      <script>\n",
              "        const buttonEl =\n",
              "          document.querySelector('#df-3996fc07-99e7-4e82-9c6b-a337cb00ac9c button.colab-df-convert');\n",
              "        buttonEl.style.display =\n",
              "          google.colab.kernel.accessAllowed ? 'block' : 'none';\n",
              "\n",
              "        async function convertToInteractive(key) {\n",
              "          const element = document.querySelector('#df-3996fc07-99e7-4e82-9c6b-a337cb00ac9c');\n",
              "          const dataTable =\n",
              "            await google.colab.kernel.invokeFunction('convertToInteractive',\n",
              "                                                     [key], {});\n",
              "          if (!dataTable) return;\n",
              "\n",
              "          const docLinkHtml = 'Like what you see? Visit the ' +\n",
              "            '<a target=\"_blank\" href=https://colab.research.google.com/notebooks/data_table.ipynb>data table notebook</a>'\n",
              "            + ' to learn more about interactive tables.';\n",
              "          element.innerHTML = '';\n",
              "          dataTable['output_type'] = 'display_data';\n",
              "          await google.colab.output.renderOutput(dataTable, element);\n",
              "          const docLink = document.createElement('div');\n",
              "          docLink.innerHTML = docLinkHtml;\n",
              "          element.appendChild(docLink);\n",
              "        }\n",
              "      </script>\n",
              "    </div>\n",
              "  </div>\n",
              "  "
            ]
          },
          "metadata": {},
          "execution_count": 75
        }
      ]
    },
    {
      "cell_type": "markdown",
      "source": [
        "##Question 1\n",
        "\n",
        "**What is the most frequent observation (mode) for the column ocean_proximity?**"
      ],
      "metadata": {
        "id": "COsYW7jfGwV2"
      }
    },
    {
      "cell_type": "code",
      "source": [
        "# Descriptive statistic of the dataset only for objects\n",
        "data.describe(include=['O'])"
      ],
      "metadata": {
        "colab": {
          "base_uri": "https://localhost:8080/",
          "height": 175
        },
        "id": "zPS-tfYjGptt",
        "outputId": "80a66fbf-fd44-42b8-e445-1698fe954e22"
      },
      "execution_count": 76,
      "outputs": [
        {
          "output_type": "execute_result",
          "data": {
            "text/plain": [
              "       ocean_proximity\n",
              "count            20640\n",
              "unique               5\n",
              "top          <1H OCEAN\n",
              "freq              9136"
            ],
            "text/html": [
              "\n",
              "  <div id=\"df-01c70691-d125-4f66-8347-9135e5d2ce98\">\n",
              "    <div class=\"colab-df-container\">\n",
              "      <div>\n",
              "<style scoped>\n",
              "    .dataframe tbody tr th:only-of-type {\n",
              "        vertical-align: middle;\n",
              "    }\n",
              "\n",
              "    .dataframe tbody tr th {\n",
              "        vertical-align: top;\n",
              "    }\n",
              "\n",
              "    .dataframe thead th {\n",
              "        text-align: right;\n",
              "    }\n",
              "</style>\n",
              "<table border=\"1\" class=\"dataframe\">\n",
              "  <thead>\n",
              "    <tr style=\"text-align: right;\">\n",
              "      <th></th>\n",
              "      <th>ocean_proximity</th>\n",
              "    </tr>\n",
              "  </thead>\n",
              "  <tbody>\n",
              "    <tr>\n",
              "      <th>count</th>\n",
              "      <td>20640</td>\n",
              "    </tr>\n",
              "    <tr>\n",
              "      <th>unique</th>\n",
              "      <td>5</td>\n",
              "    </tr>\n",
              "    <tr>\n",
              "      <th>top</th>\n",
              "      <td>&lt;1H OCEAN</td>\n",
              "    </tr>\n",
              "    <tr>\n",
              "      <th>freq</th>\n",
              "      <td>9136</td>\n",
              "    </tr>\n",
              "  </tbody>\n",
              "</table>\n",
              "</div>\n",
              "      <button class=\"colab-df-convert\" onclick=\"convertToInteractive('df-01c70691-d125-4f66-8347-9135e5d2ce98')\"\n",
              "              title=\"Convert this dataframe to an interactive table.\"\n",
              "              style=\"display:none;\">\n",
              "        \n",
              "  <svg xmlns=\"http://www.w3.org/2000/svg\" height=\"24px\"viewBox=\"0 0 24 24\"\n",
              "       width=\"24px\">\n",
              "    <path d=\"M0 0h24v24H0V0z\" fill=\"none\"/>\n",
              "    <path d=\"M18.56 5.44l.94 2.06.94-2.06 2.06-.94-2.06-.94-.94-2.06-.94 2.06-2.06.94zm-11 1L8.5 8.5l.94-2.06 2.06-.94-2.06-.94L8.5 2.5l-.94 2.06-2.06.94zm10 10l.94 2.06.94-2.06 2.06-.94-2.06-.94-.94-2.06-.94 2.06-2.06.94z\"/><path d=\"M17.41 7.96l-1.37-1.37c-.4-.4-.92-.59-1.43-.59-.52 0-1.04.2-1.43.59L10.3 9.45l-7.72 7.72c-.78.78-.78 2.05 0 2.83L4 21.41c.39.39.9.59 1.41.59.51 0 1.02-.2 1.41-.59l7.78-7.78 2.81-2.81c.8-.78.8-2.07 0-2.86zM5.41 20L4 18.59l7.72-7.72 1.47 1.35L5.41 20z\"/>\n",
              "  </svg>\n",
              "      </button>\n",
              "      \n",
              "  <style>\n",
              "    .colab-df-container {\n",
              "      display:flex;\n",
              "      flex-wrap:wrap;\n",
              "      gap: 12px;\n",
              "    }\n",
              "\n",
              "    .colab-df-convert {\n",
              "      background-color: #E8F0FE;\n",
              "      border: none;\n",
              "      border-radius: 50%;\n",
              "      cursor: pointer;\n",
              "      display: none;\n",
              "      fill: #1967D2;\n",
              "      height: 32px;\n",
              "      padding: 0 0 0 0;\n",
              "      width: 32px;\n",
              "    }\n",
              "\n",
              "    .colab-df-convert:hover {\n",
              "      background-color: #E2EBFA;\n",
              "      box-shadow: 0px 1px 2px rgba(60, 64, 67, 0.3), 0px 1px 3px 1px rgba(60, 64, 67, 0.15);\n",
              "      fill: #174EA6;\n",
              "    }\n",
              "\n",
              "    [theme=dark] .colab-df-convert {\n",
              "      background-color: #3B4455;\n",
              "      fill: #D2E3FC;\n",
              "    }\n",
              "\n",
              "    [theme=dark] .colab-df-convert:hover {\n",
              "      background-color: #434B5C;\n",
              "      box-shadow: 0px 1px 3px 1px rgba(0, 0, 0, 0.15);\n",
              "      filter: drop-shadow(0px 1px 2px rgba(0, 0, 0, 0.3));\n",
              "      fill: #FFFFFF;\n",
              "    }\n",
              "  </style>\n",
              "\n",
              "      <script>\n",
              "        const buttonEl =\n",
              "          document.querySelector('#df-01c70691-d125-4f66-8347-9135e5d2ce98 button.colab-df-convert');\n",
              "        buttonEl.style.display =\n",
              "          google.colab.kernel.accessAllowed ? 'block' : 'none';\n",
              "\n",
              "        async function convertToInteractive(key) {\n",
              "          const element = document.querySelector('#df-01c70691-d125-4f66-8347-9135e5d2ce98');\n",
              "          const dataTable =\n",
              "            await google.colab.kernel.invokeFunction('convertToInteractive',\n",
              "                                                     [key], {});\n",
              "          if (!dataTable) return;\n",
              "\n",
              "          const docLinkHtml = 'Like what you see? Visit the ' +\n",
              "            '<a target=\"_blank\" href=https://colab.research.google.com/notebooks/data_table.ipynb>data table notebook</a>'\n",
              "            + ' to learn more about interactive tables.';\n",
              "          element.innerHTML = '';\n",
              "          dataTable['output_type'] = 'display_data';\n",
              "          await google.colab.output.renderOutput(dataTable, element);\n",
              "          const docLink = document.createElement('div');\n",
              "          docLink.innerHTML = docLinkHtml;\n",
              "          element.appendChild(docLink);\n",
              "        }\n",
              "      </script>\n",
              "    </div>\n",
              "  </div>\n",
              "  "
            ]
          },
          "metadata": {},
          "execution_count": 76
        }
      ]
    },
    {
      "cell_type": "code",
      "source": [
        "# Another method to find the most frequent observation\n",
        "data['ocean_proximity'].mode()"
      ],
      "metadata": {
        "colab": {
          "base_uri": "https://localhost:8080/"
        },
        "id": "4_cSjkPlPXcU",
        "outputId": "7a4a2569-38e6-4a07-85d6-aefdbf596f54"
      },
      "execution_count": 77,
      "outputs": [
        {
          "output_type": "execute_result",
          "data": {
            "text/plain": [
              "0    <1H OCEAN\n",
              "dtype: object"
            ]
          },
          "metadata": {},
          "execution_count": 77
        }
      ]
    },
    {
      "cell_type": "markdown",
      "source": [
        "###Answer for Question N.1: <1H OCEAN"
      ],
      "metadata": {
        "id": "puU_9LbBJLqm"
      }
    },
    {
      "cell_type": "markdown",
      "source": [
        "##Question 2"
      ],
      "metadata": {
        "id": "VR0uEmFFMqcg"
      }
    },
    {
      "cell_type": "code",
      "source": [
        "# Create the correlation matrix for the numerical features of your train dataset\n",
        "\n",
        "# Make a copy of the original dataset\n",
        "data_numeric = data.copy()\n",
        "\n",
        "# Use the function info to get information about the dataset\n",
        "data.info()"
      ],
      "metadata": {
        "colab": {
          "base_uri": "https://localhost:8080/"
        },
        "id": "6uUqhDWNHIey",
        "outputId": "f5f6e6f4-e318-4240-cdc0-e75f888208c7"
      },
      "execution_count": 78,
      "outputs": [
        {
          "output_type": "stream",
          "name": "stdout",
          "text": [
            "<class 'pandas.core.frame.DataFrame'>\n",
            "RangeIndex: 20640 entries, 0 to 20639\n",
            "Data columns (total 13 columns):\n",
            " #   Column                    Non-Null Count  Dtype  \n",
            "---  ------                    --------------  -----  \n",
            " 0   longitude                 20640 non-null  float64\n",
            " 1   latitude                  20640 non-null  float64\n",
            " 2   housing_median_age        20640 non-null  float64\n",
            " 3   total_rooms               20640 non-null  float64\n",
            " 4   total_bedrooms            20640 non-null  float64\n",
            " 5   population                20640 non-null  float64\n",
            " 6   households                20640 non-null  float64\n",
            " 7   median_income             20640 non-null  float64\n",
            " 8   median_house_value        20640 non-null  float64\n",
            " 9   ocean_proximity           20640 non-null  object \n",
            " 10  rooms_per_household       20640 non-null  float64\n",
            " 11  bedrooms_per_room         20640 non-null  float64\n",
            " 12  population_per_household  20640 non-null  float64\n",
            "dtypes: float64(12), object(1)\n",
            "memory usage: 2.0+ MB\n"
          ]
        }
      ]
    },
    {
      "cell_type": "code",
      "source": [
        "# Make the new dataframe contains only the numerical features\n",
        "data_numeric = data.drop(['ocean_proximity'], axis=1)\n",
        "data_numeric.head()"
      ],
      "metadata": {
        "colab": {
          "base_uri": "https://localhost:8080/",
          "height": 270
        },
        "id": "863YQK6GUaBX",
        "outputId": "ed2aae2e-be3f-4f77-d5fd-2abbcf1b88ec"
      },
      "execution_count": 79,
      "outputs": [
        {
          "output_type": "execute_result",
          "data": {
            "text/plain": [
              "   longitude  latitude  housing_median_age  total_rooms  total_bedrooms  \\\n",
              "0    -122.23     37.88                41.0        880.0           129.0   \n",
              "1    -122.22     37.86                21.0       7099.0          1106.0   \n",
              "2    -122.24     37.85                52.0       1467.0           190.0   \n",
              "3    -122.25     37.85                52.0       1274.0           235.0   \n",
              "4    -122.25     37.85                52.0       1627.0           280.0   \n",
              "\n",
              "   population  households  median_income  median_house_value  \\\n",
              "0       322.0       126.0         8.3252            452600.0   \n",
              "1      2401.0      1138.0         8.3014            358500.0   \n",
              "2       496.0       177.0         7.2574            352100.0   \n",
              "3       558.0       219.0         5.6431            341300.0   \n",
              "4       565.0       259.0         3.8462            342200.0   \n",
              "\n",
              "   rooms_per_household  bedrooms_per_room  population_per_household  \n",
              "0             6.984127           0.146591                  2.555556  \n",
              "1             6.238137           0.155797                  2.109842  \n",
              "2             8.288136           0.129516                  2.802260  \n",
              "3             5.817352           0.184458                  2.547945  \n",
              "4             6.281853           0.172096                  2.181467  "
            ],
            "text/html": [
              "\n",
              "  <div id=\"df-88c7b289-638f-49c5-9d71-5f0c78a8b167\">\n",
              "    <div class=\"colab-df-container\">\n",
              "      <div>\n",
              "<style scoped>\n",
              "    .dataframe tbody tr th:only-of-type {\n",
              "        vertical-align: middle;\n",
              "    }\n",
              "\n",
              "    .dataframe tbody tr th {\n",
              "        vertical-align: top;\n",
              "    }\n",
              "\n",
              "    .dataframe thead th {\n",
              "        text-align: right;\n",
              "    }\n",
              "</style>\n",
              "<table border=\"1\" class=\"dataframe\">\n",
              "  <thead>\n",
              "    <tr style=\"text-align: right;\">\n",
              "      <th></th>\n",
              "      <th>longitude</th>\n",
              "      <th>latitude</th>\n",
              "      <th>housing_median_age</th>\n",
              "      <th>total_rooms</th>\n",
              "      <th>total_bedrooms</th>\n",
              "      <th>population</th>\n",
              "      <th>households</th>\n",
              "      <th>median_income</th>\n",
              "      <th>median_house_value</th>\n",
              "      <th>rooms_per_household</th>\n",
              "      <th>bedrooms_per_room</th>\n",
              "      <th>population_per_household</th>\n",
              "    </tr>\n",
              "  </thead>\n",
              "  <tbody>\n",
              "    <tr>\n",
              "      <th>0</th>\n",
              "      <td>-122.23</td>\n",
              "      <td>37.88</td>\n",
              "      <td>41.0</td>\n",
              "      <td>880.0</td>\n",
              "      <td>129.0</td>\n",
              "      <td>322.0</td>\n",
              "      <td>126.0</td>\n",
              "      <td>8.3252</td>\n",
              "      <td>452600.0</td>\n",
              "      <td>6.984127</td>\n",
              "      <td>0.146591</td>\n",
              "      <td>2.555556</td>\n",
              "    </tr>\n",
              "    <tr>\n",
              "      <th>1</th>\n",
              "      <td>-122.22</td>\n",
              "      <td>37.86</td>\n",
              "      <td>21.0</td>\n",
              "      <td>7099.0</td>\n",
              "      <td>1106.0</td>\n",
              "      <td>2401.0</td>\n",
              "      <td>1138.0</td>\n",
              "      <td>8.3014</td>\n",
              "      <td>358500.0</td>\n",
              "      <td>6.238137</td>\n",
              "      <td>0.155797</td>\n",
              "      <td>2.109842</td>\n",
              "    </tr>\n",
              "    <tr>\n",
              "      <th>2</th>\n",
              "      <td>-122.24</td>\n",
              "      <td>37.85</td>\n",
              "      <td>52.0</td>\n",
              "      <td>1467.0</td>\n",
              "      <td>190.0</td>\n",
              "      <td>496.0</td>\n",
              "      <td>177.0</td>\n",
              "      <td>7.2574</td>\n",
              "      <td>352100.0</td>\n",
              "      <td>8.288136</td>\n",
              "      <td>0.129516</td>\n",
              "      <td>2.802260</td>\n",
              "    </tr>\n",
              "    <tr>\n",
              "      <th>3</th>\n",
              "      <td>-122.25</td>\n",
              "      <td>37.85</td>\n",
              "      <td>52.0</td>\n",
              "      <td>1274.0</td>\n",
              "      <td>235.0</td>\n",
              "      <td>558.0</td>\n",
              "      <td>219.0</td>\n",
              "      <td>5.6431</td>\n",
              "      <td>341300.0</td>\n",
              "      <td>5.817352</td>\n",
              "      <td>0.184458</td>\n",
              "      <td>2.547945</td>\n",
              "    </tr>\n",
              "    <tr>\n",
              "      <th>4</th>\n",
              "      <td>-122.25</td>\n",
              "      <td>37.85</td>\n",
              "      <td>52.0</td>\n",
              "      <td>1627.0</td>\n",
              "      <td>280.0</td>\n",
              "      <td>565.0</td>\n",
              "      <td>259.0</td>\n",
              "      <td>3.8462</td>\n",
              "      <td>342200.0</td>\n",
              "      <td>6.281853</td>\n",
              "      <td>0.172096</td>\n",
              "      <td>2.181467</td>\n",
              "    </tr>\n",
              "  </tbody>\n",
              "</table>\n",
              "</div>\n",
              "      <button class=\"colab-df-convert\" onclick=\"convertToInteractive('df-88c7b289-638f-49c5-9d71-5f0c78a8b167')\"\n",
              "              title=\"Convert this dataframe to an interactive table.\"\n",
              "              style=\"display:none;\">\n",
              "        \n",
              "  <svg xmlns=\"http://www.w3.org/2000/svg\" height=\"24px\"viewBox=\"0 0 24 24\"\n",
              "       width=\"24px\">\n",
              "    <path d=\"M0 0h24v24H0V0z\" fill=\"none\"/>\n",
              "    <path d=\"M18.56 5.44l.94 2.06.94-2.06 2.06-.94-2.06-.94-.94-2.06-.94 2.06-2.06.94zm-11 1L8.5 8.5l.94-2.06 2.06-.94-2.06-.94L8.5 2.5l-.94 2.06-2.06.94zm10 10l.94 2.06.94-2.06 2.06-.94-2.06-.94-.94-2.06-.94 2.06-2.06.94z\"/><path d=\"M17.41 7.96l-1.37-1.37c-.4-.4-.92-.59-1.43-.59-.52 0-1.04.2-1.43.59L10.3 9.45l-7.72 7.72c-.78.78-.78 2.05 0 2.83L4 21.41c.39.39.9.59 1.41.59.51 0 1.02-.2 1.41-.59l7.78-7.78 2.81-2.81c.8-.78.8-2.07 0-2.86zM5.41 20L4 18.59l7.72-7.72 1.47 1.35L5.41 20z\"/>\n",
              "  </svg>\n",
              "      </button>\n",
              "      \n",
              "  <style>\n",
              "    .colab-df-container {\n",
              "      display:flex;\n",
              "      flex-wrap:wrap;\n",
              "      gap: 12px;\n",
              "    }\n",
              "\n",
              "    .colab-df-convert {\n",
              "      background-color: #E8F0FE;\n",
              "      border: none;\n",
              "      border-radius: 50%;\n",
              "      cursor: pointer;\n",
              "      display: none;\n",
              "      fill: #1967D2;\n",
              "      height: 32px;\n",
              "      padding: 0 0 0 0;\n",
              "      width: 32px;\n",
              "    }\n",
              "\n",
              "    .colab-df-convert:hover {\n",
              "      background-color: #E2EBFA;\n",
              "      box-shadow: 0px 1px 2px rgba(60, 64, 67, 0.3), 0px 1px 3px 1px rgba(60, 64, 67, 0.15);\n",
              "      fill: #174EA6;\n",
              "    }\n",
              "\n",
              "    [theme=dark] .colab-df-convert {\n",
              "      background-color: #3B4455;\n",
              "      fill: #D2E3FC;\n",
              "    }\n",
              "\n",
              "    [theme=dark] .colab-df-convert:hover {\n",
              "      background-color: #434B5C;\n",
              "      box-shadow: 0px 1px 3px 1px rgba(0, 0, 0, 0.15);\n",
              "      filter: drop-shadow(0px 1px 2px rgba(0, 0, 0, 0.3));\n",
              "      fill: #FFFFFF;\n",
              "    }\n",
              "  </style>\n",
              "\n",
              "      <script>\n",
              "        const buttonEl =\n",
              "          document.querySelector('#df-88c7b289-638f-49c5-9d71-5f0c78a8b167 button.colab-df-convert');\n",
              "        buttonEl.style.display =\n",
              "          google.colab.kernel.accessAllowed ? 'block' : 'none';\n",
              "\n",
              "        async function convertToInteractive(key) {\n",
              "          const element = document.querySelector('#df-88c7b289-638f-49c5-9d71-5f0c78a8b167');\n",
              "          const dataTable =\n",
              "            await google.colab.kernel.invokeFunction('convertToInteractive',\n",
              "                                                     [key], {});\n",
              "          if (!dataTable) return;\n",
              "\n",
              "          const docLinkHtml = 'Like what you see? Visit the ' +\n",
              "            '<a target=\"_blank\" href=https://colab.research.google.com/notebooks/data_table.ipynb>data table notebook</a>'\n",
              "            + ' to learn more about interactive tables.';\n",
              "          element.innerHTML = '';\n",
              "          dataTable['output_type'] = 'display_data';\n",
              "          await google.colab.output.renderOutput(dataTable, element);\n",
              "          const docLink = document.createElement('div');\n",
              "          docLink.innerHTML = docLinkHtml;\n",
              "          element.appendChild(docLink);\n",
              "        }\n",
              "      </script>\n",
              "    </div>\n",
              "  </div>\n",
              "  "
            ]
          },
          "metadata": {},
          "execution_count": 79
        }
      ]
    },
    {
      "cell_type": "code",
      "source": [
        "# Plot heatmap with the correlation between numerical data\n",
        "plt.figure(figsize=(15,10))\n",
        "sns.heatmap(data_numeric.corr(),annot=True,linewidths=.5,cmap='Blues')\n",
        "plt.title('Heatmap showing correlations between numercial data')\n",
        "plt.show()"
      ],
      "metadata": {
        "colab": {
          "base_uri": "https://localhost:8080/",
          "height": 729
        },
        "id": "0y-GjNEZVvpD",
        "outputId": "62bee0ce-50e8-4fc3-eec3-de15345d0b7f"
      },
      "execution_count": 80,
      "outputs": [
        {
          "output_type": "display_data",
          "data": {
            "text/plain": [
              "<Figure size 1080x720 with 2 Axes>"
            ],
            "image/png": "[encoded data removed]"
          },
          "metadata": {
            "needs_background": "light"
          }
        }
      ]
    },
    {
      "cell_type": "code",
      "source": [
        "# Another method to have the correlation between numerical data\n",
        "data_numeric.corr().unstack().sort_values(ascending=False)"
      ],
      "metadata": {
        "colab": {
          "base_uri": "https://localhost:8080/"
        },
        "id": "lIFSXc-7ZXJ5",
        "outputId": "dd60b635-0384-4739-81d0-e7427b3d4b7d"
      },
      "execution_count": 81,
      "outputs": [
        {
          "output_type": "execute_result",
          "data": {
            "text/plain": [
              "longitude            longitude              1.000000\n",
              "latitude             latitude               1.000000\n",
              "bedrooms_per_room    bedrooms_per_room      1.000000\n",
              "rooms_per_household  rooms_per_household    1.000000\n",
              "median_house_value   median_house_value     1.000000\n",
              "                                              ...   \n",
              "bedrooms_per_room    rooms_per_household   -0.387465\n",
              "                     median_income         -0.573836\n",
              "median_income        bedrooms_per_room     -0.573836\n",
              "longitude            latitude              -0.924664\n",
              "latitude             longitude             -0.924664\n",
              "Length: 144, dtype: float64"
            ]
          },
          "metadata": {},
          "execution_count": 81
        }
      ]
    },
    {
      "cell_type": "markdown",
      "source": [
        "###Answer for Question N.2: total_bedrooms and households"
      ],
      "metadata": {
        "id": "AtSFSdhrX71q"
      }
    },
    {
      "cell_type": "code",
      "source": [
        "# We need to turn the median_house_value variable from numeric into binary\n",
        "\n",
        "# Let's create a variable above_average which is 1 if the median_house_value is above \n",
        "# its mean value and 0 otherwise\n",
        "\n",
        "# Make a copy of the original dataset\n",
        "data_class = data.copy()\n",
        "\n",
        "# Calculate the mean of median_house_value\n",
        "mean = data_class['median_house_value'].mean()\n",
        "\n",
        "# Create a variable above_average which is 1 if the median_house_value is above \n",
        "data_class['above_average'] = np.where(data_class['median_house_value'] >= mean,1,0)\n",
        "\n",
        "# Delete the feature median house from the dataframe\n",
        "data_class = data_class.drop('median_house_value', axis=1)"
      ],
      "metadata": {
        "id": "1RgO1XStX5pb"
      },
      "execution_count": 82,
      "outputs": []
    },
    {
      "cell_type": "code",
      "source": [
        "# Import the library sklearn with the homework\n",
        "from sklearn.model_selection import train_test_split"
      ],
      "metadata": {
        "id": "PubwMz7Ihr_d"
      },
      "execution_count": 83,
      "outputs": []
    },
    {
      "cell_type": "code",
      "source": [
        "# Define the sizes of the datasets with 20% and use random state so the results are reproducible\n",
        "\n",
        "# Split the full train dataframe with 80% and the test 20% and set the seed to 42\n",
        "df_full_train, df_test = train_test_split(data_class, test_size=0.2, random_state=42)"
      ],
      "metadata": {
        "id": "lctXK5O4kAuo"
      },
      "execution_count": 84,
      "outputs": []
    },
    {
      "cell_type": "code",
      "source": [
        "# Split the full train dataframe in train and validation dataframes\n",
        "df_train, df_val = train_test_split(df_full_train, test_size=0.25, random_state=42)"
      ],
      "metadata": {
        "id": "dTfcfYikmU0l"
      },
      "execution_count": 85,
      "outputs": []
    },
    {
      "cell_type": "code",
      "source": [
        "# Reset the indexes of train, validation and test dataframes\n",
        "df_train = df_train.reset_index(drop=True)\n",
        "df_val   = df_val.reset_index(drop=True)\n",
        "df_test  = df_test.reset_index(drop=True)"
      ],
      "metadata": {
        "id": "T1IsICbonVYL"
      },
      "execution_count": 86,
      "outputs": []
    },
    {
      "cell_type": "code",
      "source": [
        "# Get the above_average feature from train, validation and test dataframes\n",
        "y_train = df_train.above_average.values\n",
        "y_val   = df_val.above_average.values\n",
        "y_test  = df_test.above_average.values"
      ],
      "metadata": {
        "id": "-yRLWp_cnoEA"
      },
      "execution_count": 87,
      "outputs": []
    },
    {
      "cell_type": "code",
      "source": [
        "# Delete the feature above_average from the dataframes: train, validation and test\n",
        "#del df_train['above_average']\n",
        "#del df_val['above_average']\n",
        "#del df_test['above_average']"
      ],
      "metadata": {
        "id": "5i0t-HNqonO9"
      },
      "execution_count": 88,
      "outputs": []
    },
    {
      "cell_type": "markdown",
      "source": [
        "##Question 3"
      ],
      "metadata": {
        "id": "PHXxtccOpkAb"
      }
    },
    {
      "cell_type": "markdown",
      "source": [
        "##Mutual information"
      ],
      "metadata": {
        "id": "XiyDu-sfp94A"
      }
    },
    {
      "cell_type": "code",
      "source": [
        "# Use scikit-learn to implements mutual information\n",
        "from sklearn.metrics import mutual_info_score"
      ],
      "metadata": {
        "id": "_ah7_WPOpqaB"
      },
      "execution_count": 89,
      "outputs": []
    },
    {
      "cell_type": "code",
      "source": [
        "# Define function to calculate the MI\n",
        "def calculate_mi(series):\n",
        "  return mutual_info_score(series, df_train.above_average)\n",
        "\n",
        "# Use the function apply with mutual info churn score and with categorical variables\n",
        "df_mi = df_train[['ocean_proximity']].apply(calculate_mi)\n",
        "\n",
        "# Use sort values function with the result of the mutual information in descending order\n",
        "df_mi = round(df_mi.sort_values(ascending=False).to_frame(name='MI'),2)\n",
        "df_mi"
      ],
      "metadata": {
        "colab": {
          "base_uri": "https://localhost:8080/",
          "height": 81
        },
        "id": "518jlF1GslEN",
        "outputId": "4b1ea11b-b2b4-4125-d41c-34e98f29068f"
      },
      "execution_count": 105,
      "outputs": [
        {
          "output_type": "execute_result",
          "data": {
            "text/plain": [
              "                  MI\n",
              "ocean_proximity  0.1"
            ],
            "text/html": [
              "\n",
              "  <div id=\"df-aee28c22-6bba-4da0-a975-d04475a9b265\">\n",
              "    <div class=\"colab-df-container\">\n",
              "      <div>\n",
              "<style scoped>\n",
              "    .dataframe tbody tr th:only-of-type {\n",
              "        vertical-align: middle;\n",
              "    }\n",
              "\n",
              "    .dataframe tbody tr th {\n",
              "        vertical-align: top;\n",
              "    }\n",
              "\n",
              "    .dataframe thead th {\n",
              "        text-align: right;\n",
              "    }\n",
              "</style>\n",
              "<table border=\"1\" class=\"dataframe\">\n",
              "  <thead>\n",
              "    <tr style=\"text-align: right;\">\n",
              "      <th></th>\n",
              "      <th>MI</th>\n",
              "    </tr>\n",
              "  </thead>\n",
              "  <tbody>\n",
              "    <tr>\n",
              "      <th>ocean_proximity</th>\n",
              "      <td>0.1</td>\n",
              "    </tr>\n",
              "  </tbody>\n",
              "</table>\n",
              "</div>\n",
              "      <button class=\"colab-df-convert\" onclick=\"convertToInteractive('df-aee28c22-6bba-4da0-a975-d04475a9b265')\"\n",
              "              title=\"Convert this dataframe to an interactive table.\"\n",
              "              style=\"display:none;\">\n",
              "        \n",
              "  <svg xmlns=\"http://www.w3.org/2000/svg\" height=\"24px\"viewBox=\"0 0 24 24\"\n",
              "       width=\"24px\">\n",
              "    <path d=\"M0 0h24v24H0V0z\" fill=\"none\"/>\n",
              "    <path d=\"M18.56 5.44l.94 2.06.94-2.06 2.06-.94-2.06-.94-.94-2.06-.94 2.06-2.06.94zm-11 1L8.5 8.5l.94-2.06 2.06-.94-2.06-.94L8.5 2.5l-.94 2.06-2.06.94zm10 10l.94 2.06.94-2.06 2.06-.94-2.06-.94-.94-2.06-.94 2.06-2.06.94z\"/><path d=\"M17.41 7.96l-1.37-1.37c-.4-.4-.92-.59-1.43-.59-.52 0-1.04.2-1.43.59L10.3 9.45l-7.72 7.72c-.78.78-.78 2.05 0 2.83L4 21.41c.39.39.9.59 1.41.59.51 0 1.02-.2 1.41-.59l7.78-7.78 2.81-2.81c.8-.78.8-2.07 0-2.86zM5.41 20L4 18.59l7.72-7.72 1.47 1.35L5.41 20z\"/>\n",
              "  </svg>\n",
              "      </button>\n",
              "      \n",
              "  <style>\n",
              "    .colab-df-container {\n",
              "      display:flex;\n",
              "      flex-wrap:wrap;\n",
              "      gap: 12px;\n",
              "    }\n",
              "\n",
              "    .colab-df-convert {\n",
              "      background-color: #E8F0FE;\n",
              "      border: none;\n",
              "      border-radius: 50%;\n",
              "      cursor: pointer;\n",
              "      display: none;\n",
              "      fill: #1967D2;\n",
              "      height: 32px;\n",
              "      padding: 0 0 0 0;\n",
              "      width: 32px;\n",
              "    }\n",
              "\n",
              "    .colab-df-convert:hover {\n",
              "      background-color: #E2EBFA;\n",
              "      box-shadow: 0px 1px 2px rgba(60, 64, 67, 0.3), 0px 1px 3px 1px rgba(60, 64, 67, 0.15);\n",
              "      fill: #174EA6;\n",
              "    }\n",
              "\n",
              "    [theme=dark] .colab-df-convert {\n",
              "      background-color: #3B4455;\n",
              "      fill: #D2E3FC;\n",
              "    }\n",
              "\n",
              "    [theme=dark] .colab-df-convert:hover {\n",
              "      background-color: #434B5C;\n",
              "      box-shadow: 0px 1px 3px 1px rgba(0, 0, 0, 0.15);\n",
              "      filter: drop-shadow(0px 1px 2px rgba(0, 0, 0, 0.3));\n",
              "      fill: #FFFFFF;\n",
              "    }\n",
              "  </style>\n",
              "\n",
              "      <script>\n",
              "        const buttonEl =\n",
              "          document.querySelector('#df-aee28c22-6bba-4da0-a975-d04475a9b265 button.colab-df-convert');\n",
              "        buttonEl.style.display =\n",
              "          google.colab.kernel.accessAllowed ? 'block' : 'none';\n",
              "\n",
              "        async function convertToInteractive(key) {\n",
              "          const element = document.querySelector('#df-aee28c22-6bba-4da0-a975-d04475a9b265');\n",
              "          const dataTable =\n",
              "            await google.colab.kernel.invokeFunction('convertToInteractive',\n",
              "                                                     [key], {});\n",
              "          if (!dataTable) return;\n",
              "\n",
              "          const docLinkHtml = 'Like what you see? Visit the ' +\n",
              "            '<a target=\"_blank\" href=https://colab.research.google.com/notebooks/data_table.ipynb>data table notebook</a>'\n",
              "            + ' to learn more about interactive tables.';\n",
              "          element.innerHTML = '';\n",
              "          dataTable['output_type'] = 'display_data';\n",
              "          await google.colab.output.renderOutput(dataTable, element);\n",
              "          const docLink = document.createElement('div');\n",
              "          docLink.innerHTML = docLinkHtml;\n",
              "          element.appendChild(docLink);\n",
              "        }\n",
              "      </script>\n",
              "    </div>\n",
              "  </div>\n",
              "  "
            ]
          },
          "metadata": {},
          "execution_count": 105
        }
      ]
    },
    {
      "cell_type": "markdown",
      "source": [
        "###Answer for Question N.3: 0.10"
      ],
      "metadata": {
        "id": "W5MQKz9-_Vun"
      }
    },
    {
      "cell_type": "markdown",
      "source": [
        "##Question 4"
      ],
      "metadata": {
        "id": "KtLXscRO_f2B"
      }
    },
    {
      "cell_type": "code",
      "source": [
        "# Implemeting one hot encoding using dictionaries vectorizer\n",
        "from sklearn.feature_extraction import DictVectorizer\n",
        "\n",
        "# Use linear models package from Scikit-Learn\n",
        "from sklearn.linear_model import LogisticRegression\n",
        "\n",
        "# Use metrics package from Scikit-Learn\n",
        "from sklearn.metrics import accuracy_score"
      ],
      "metadata": {
        "id": "TF5Pv8LlvAqJ"
      },
      "execution_count": 107,
      "outputs": []
    },
    {
      "cell_type": "code",
      "source": [
        "# Create train dictionary coming from the train dataframe using the categorical variables\n",
        "train_dicts = df_train[['ocean_proximity']].to_dict(orient='records')\n",
        "\n",
        "# Create a new instance of the DictVectorizer class without sparse\n",
        "dv = DictVectorizer(sparse=False)\n",
        "\n",
        "# Use the method fit and first we train our DictVectorizer\n",
        "dv.fit(train_dicts)\n",
        "\n",
        "# Use the function transform with our DictVectorizer\n",
        "X_train = dv.transform(train_dicts)"
      ],
      "metadata": {
        "id": "ciY0c-hNENEB"
      },
      "execution_count": 108,
      "outputs": []
    },
    {
      "cell_type": "code",
      "source": [
        "# Create a model logistic regression\n",
        "model = LogisticRegression(solver=\"liblinear\", C=1.0, max_iter=1000, random_state=42)\n",
        "\n",
        "# For training the model we use the fit method\n",
        "model.fit(X_train, y_train)\n",
        "\n",
        "# Create val dictionary coming from the validation dataframe using the categorical variables\n",
        "val_dicts = df_val[['ocean_proximity']].to_dict(orient='records')\n",
        "\n",
        "# Use the function transform with our DictVectorizer\n",
        "X_val = dv.transform(val_dicts)\n",
        "\n",
        "# Use the model with function predict on our validation dataframe\n",
        "y_pred = model.predict(X_val)\n",
        "\n",
        "# Calculate the accuracy on the validation dataset and round it to 2 decimal digits\n",
        "accuracy = np.round(accuracy_score(y_val, y_pred),2)\n",
        "print(accuracy)"
      ],
      "metadata": {
        "colab": {
          "base_uri": "https://localhost:8080/"
        },
        "id": "mZB_NpoHGNTb",
        "outputId": "014b5575-3df2-4b46-cef4-7b5b446f80fa"
      },
      "execution_count": 111,
      "outputs": [
        {
          "output_type": "stream",
          "name": "stdout",
          "text": [
            "0.66\n"
          ]
        }
      ]
    },
    {
      "cell_type": "markdown",
      "source": [
        "###Answer for Question N.4: 0.66"
      ],
      "metadata": {
        "id": "x7QM4E1_Lbhc"
      }
    },
    {
      "cell_type": "markdown",
      "source": [
        "##Question 5"
      ],
      "metadata": {
        "id": "mPufVC8OMiht"
      }
    },
    {
      "cell_type": "code",
      "source": [
        "#\n",
        "orig_score = accuracy\n",
        "\n",
        "# \n",
        "features = [\n",
        "    'latitude',\n",
        "    'longitude',\n",
        "    'housing_median_age',\n",
        "    'total_rooms',\n",
        "    'total_bedrooms',\n",
        "    'population',\n",
        "    'households',\n",
        "    'median_income',\n",
        "    'ocean_proximity']\n",
        "\n",
        "# \n",
        "for c in features:\n",
        "  \n",
        "  # \n",
        "  subset = features.copy()\n",
        "  subset.remove(c)\n",
        "\n",
        "  # Create train dictionary coming from the train dataframe using the categorical variables\n",
        "  train_dicts = df_train[[subset]].to_dict(orient='records')\n",
        "\n",
        "  # Create a new instance of the DictVectorizer class without sparse\n",
        "  dv = DictVectorizer(sparse=False)\n",
        "\n",
        "  # Use the method fit and first we train our DictVectorizer\n",
        "  dv.fit(train_dicts)\n",
        "\n",
        "  # Use the function transform with our DictVectorizer\n",
        "  X_train = dv.transform(train_dicts)"
      ],
      "metadata": {
        "id": "a_nB44WPG1Y1"
      },
      "execution_count": null,
      "outputs": []
    }
  ]
}